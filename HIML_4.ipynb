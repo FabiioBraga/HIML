{
 "cells": [
  {
   "cell_type": "code",
   "execution_count": 5,
   "id": "c997af9c",
   "metadata": {},
   "outputs": [],
   "source": [
    "import scipy.io as sio\n",
    "import numpy as np\n",
    "from os import getcwd\n",
    "from os.path import join \n",
    "import matplotlib.pyplot as plt\n",
    "import os\n",
    "import statsmodels.api as sm\n",
    "from statsmodels.multivariate.pca import PCA\n",
    "from statsmodels.tsa.ar_model import AutoReg\n",
    "import pandas as pd "
   ]
  },
  {
   "cell_type": "code",
   "execution_count": 7,
   "id": "17aa7817",
   "metadata": {},
   "outputs": [],
   "source": [
    "fname = join(os.getcwd(),'data','data3SS2009.mat')\n",
    "\n",
    "mat_contents = sio.loadmat(fname)\n",
    "\n",
    "dataset = mat_contents['dataset']\n",
    "\n",
    "\n",
    "N, Chno, Nc = dataset.shape\n",
    "# N: number of samples\n",
    "# Chno: number of channels\n",
    "# Nc: number of cases\n",
    "\n",
    "y = mat_contents['labels'].reshape(Nc)\n",
    "\n",
    "\n"
   ]
  },
  {
   "cell_type": "code",
   "execution_count": 18,
   "id": "5e1d4bc0",
   "metadata": {},
   "outputs": [],
   "source": [
    "Ch1 = dataset[:,0,:] # célula de carga: força do shaker\n",
    "Ch2 = dataset[:,1,:] # acelerômetro: base\n",
    "Ch3 = dataset[:,2,:] # acelerômetro: 1o andar\n",
    "Ch4 = dataset[:,3,:] # acelerômetro: 2o andar\n",
    "Ch5 = dataset[:,4,:] # acelerômetro: 3o andar\n",
    "\n",
    "Ts = 3.125 * 1e-3 # sampling time\n",
    "time = (np.linspace(1,N,N) - 1) * Ts\n",
    "\n",
    "\n",
    "    \n"
   ]
  },
  {
   "cell_type": "code",
   "execution_count": 9,
   "id": "e2cea26d",
   "metadata": {},
   "outputs": [],
   "source": [
    "ARmodel_2 = AutoReg(Ch2[:,1],30,old_names=False).fit()\n",
    "ARmodel_3 = AutoReg(Ch3[:,1],30,old_names=False).fit()\n",
    "ARmodel_4 = AutoReg(Ch4[:,1],30,old_names=False).fit()\n",
    "ARmodel_5 = AutoReg(Ch5[:,1],30,old_names=False).fit()\n",
    "vec_2 = ARmodel_2.params\n",
    "vec_3 = ARmodel_3.params\n",
    "vec_4 = ARmodel_4.params\n",
    "vec_5 = ARmodel_5.params\n",
    "vec_temp = np.concatenate((vec_2,vec_3,vec_4,vec_5))\n",
    "\n",
    "ARmodel_var = vec_temp\n",
    "\n",
    "for i in range(1,850):\n",
    "    ARmodel_2 = AutoReg(Ch2[:,i],30,old_names=False).fit()\n",
    "    ARmodel_3 = AutoReg(Ch3[:,i],30,old_names=False).fit()\n",
    "    ARmodel_4 = AutoReg(Ch4[:,i],30,old_names=False).fit()\n",
    "    ARmodel_5 = AutoReg(Ch5[:,i],30,old_names=False).fit()\n",
    "    vec_2 = ARmodel_2.params\n",
    "    vec_3 = ARmodel_3.params\n",
    "    vec_4 = ARmodel_4.params\n",
    "    vec_5 = ARmodel_5.params\n",
    "    vec_temp = np.concatenate((vec_2,vec_3,vec_4,vec_5))\n",
    "    ARmodel_var = np.vstack([ARmodel_var,vec_temp])"
   ]
  },
  {
   "cell_type": "code",
   "execution_count": 10,
   "id": "601ba4aa",
   "metadata": {},
   "outputs": [
    {
     "data": {
      "text/plain": [
       "(850, 124)"
      ]
     },
     "execution_count": 10,
     "metadata": {},
     "output_type": "execute_result"
    }
   ],
   "source": [
    "X = ARmodel_var\n",
    "X.shape"
   ]
  },
  {
   "cell_type": "code",
   "execution_count": 12,
   "id": "86c4b21a",
   "metadata": {},
   "outputs": [],
   "source": [
    "import numpy as np\n",
    "from scipy import stats\n",
    "from scipy.stats.stats import mode\n",
    "from sklearn.preprocessing import StandardScaler\n",
    "from sklearn.model_selection import (train_test_split, RepeatedKFold,\n",
    "RandomizedSearchCV)\n",
    "from sklearn.linear_model import Ridge\n",
    "from sklearn.svm import SVR\n",
    "from sklearn.neighbors import KNeighborsRegressor\n",
    "from sklearn.pipeline import Pipeline"
   ]
  },
  {
   "cell_type": "code",
   "execution_count": 13,
   "id": "fba3b153",
   "metadata": {},
   "outputs": [],
   "source": [
    "X_train, X_test, y_train, y_test = train_test_split(X, y, test_size=0.4, random_state=42)\n"
   ]
  },
  {
   "cell_type": "code",
   "execution_count": 14,
   "id": "114276ec",
   "metadata": {},
   "outputs": [],
   "source": [
    "## SVM Method\n",
    "\n",
    "from scipy.stats import randint, expon \n",
    "from sklearn.svm import SVC\n",
    "\n",
    "estimator = SVC()\n",
    "param_dist = {\n",
    "    'C': expon(scale=1),  # Regularization parameter (C)\n",
    "    'kernel': ['linear', 'poly', 'rbf', 'sigmoid'],  # Kernel type\n",
    "    'degree': randint(1, 10),  # Degree of the polynomial kernel\n",
    "    'gamma': ['scale', 'auto'] + list(expon(scale=0.1).rvs(20)),  \n",
    "}\n",
    "\n",
    "cv = RepeatedKFold(n_splits=5, n_repeats=50, random_state=42)\n",
    "\n",
    "random_search = RandomizedSearchCV(\n",
    "    estimator=estimator,\n",
    "    param_distributions=param_dist,\n",
    "    n_iter=100,\n",
    "    scoring='accuracy', \n",
    "    cv=cv,\n",
    "    n_jobs=-1,  \n",
    "    random_state=42\n",
    ")\n",
    "\n"
   ]
  },
  {
   "cell_type": "code",
   "execution_count": 15,
   "id": "805018a3",
   "metadata": {},
   "outputs": [
    {
     "name": "stdout",
     "output_type": "stream",
     "text": [
      "Best Hyperparameters: {'C': 4.088216525459695, 'degree': 9, 'gamma': 0.01681009892720547, 'kernel': 'linear'}\n",
      "Best Accuracy: 0.9973647058823529\n"
     ]
    }
   ],
   "source": [
    "\n",
    "random_search.fit(X, y)  \n",
    "\n",
    "print(\"Best Hyperparameters:\", random_search.best_params_)\n",
    "print(\"Best Accuracy:\", random_search.best_score_)"
   ]
  },
  {
   "cell_type": "code",
   "execution_count": 16,
   "id": "0dc63b1b",
   "metadata": {},
   "outputs": [
    {
     "name": "stdout",
     "output_type": "stream",
     "text": [
      "Best Hyperparameters: {'n_neighbors': 4, 'p': 1, 'weights': 'distance'}\n",
      "Best Accuracy: 0.9743294117647058\n"
     ]
    }
   ],
   "source": [
    "## kNN Method\n",
    "from sklearn.neighbors import KNeighborsClassifier\n",
    "from scipy.stats import randint, expon \n",
    "\n",
    "\n",
    "estimator = KNeighborsClassifier()\n",
    "param_dist = {\n",
    "    'n_neighbors': randint(1, 30),  # Number of neighbors\n",
    "    'weights': ['uniform', 'distance'], \n",
    "    'p': [1, 2],  \n",
    "}\n",
    "\n",
    "cv = RepeatedKFold(n_splits=5, n_repeats=50, random_state=42)\n",
    "\n",
    "random_search = RandomizedSearchCV(\n",
    "    estimator=estimator,\n",
    "    param_distributions=param_dist,\n",
    "    n_iter=100,\n",
    "    scoring='accuracy', \n",
    "    cv=cv,\n",
    "    n_jobs=-1,  \n",
    "    random_state=42\n",
    ")\n",
    "\n",
    "random_search.fit(X, y)  \n",
    "\n",
    "print(\"Best Hyperparameters:\", random_search.best_params_)\n",
    "print(\"Best Accuracy:\", random_search.best_score_)"
   ]
  },
  {
   "cell_type": "code",
   "execution_count": null,
   "id": "780f6833",
   "metadata": {},
   "outputs": [],
   "source": [
    "from sklearn.linear_model import LogisticRegression\n",
    "from scipy.stats import uniform \n",
    "\n",
    "estimator = LogisticRegression(multi_class='multinomial', solver='saga', max_iter=1000)\n",
    "param_dist = {\n",
    "    'C': uniform(0.1, 10.0),  \n",
    "}\n",
    "\n",
    "cv = RepeatedKFold(n_splits=5, n_repeats=50, random_state=42)\n",
    "\n",
    "random_search = RandomizedSearchCV(\n",
    "    estimator=estimator,\n",
    "    param_distributions=param_dist,\n",
    "    n_iter=100,\n",
    "    scoring='accuracy',  \n",
    "    cv=cv,\n",
    "    n_jobs=-1,  \n",
    "    random_state=42\n",
    ")\n",
    "random_search.fit(X, y)\n",
    "print(\"Best Hyperparameters:\", random_search.best_params_)\n",
    "print(\"Best Score:\", random_search.best_score_)"
   ]
  },
  {
   "cell_type": "code",
   "execution_count": null,
   "id": "d387c3cd",
   "metadata": {},
   "outputs": [],
   "source": [
    "# The results found are not the same as those found with the default configurations (cf Take-Home Exercice 3)\n",
    "# Generally speaking, accuracy is better after searching for the best hyperpartameters.\n",
    "# Model with LogisticRegression has a calculation time too long\n",
    "\n"
   ]
  }
 ],
 "metadata": {
  "kernelspec": {
   "display_name": "Python 3 (ipykernel)",
   "language": "python",
   "name": "python3"
  },
  "language_info": {
   "codemirror_mode": {
    "name": "ipython",
    "version": 3
   },
   "file_extension": ".py",
   "mimetype": "text/x-python",
   "name": "python",
   "nbconvert_exporter": "python",
   "pygments_lexer": "ipython3",
   "version": "3.9.12"
  }
 },
 "nbformat": 4,
 "nbformat_minor": 5
}
