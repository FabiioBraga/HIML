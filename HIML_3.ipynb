{
 "cells": [
  {
   "cell_type": "code",
   "execution_count": 64,
   "id": "f5314e45",
   "metadata": {},
   "outputs": [],
   "source": [
    "import scipy.io as sio\n",
    "import numpy as np\n",
    "from os import getcwd\n",
    "from os.path import join \n",
    "import matplotlib.pyplot as plt\n",
    "import os\n",
    "import statsmodels.api as sm\n",
    "from statsmodels.multivariate.pca import PCA\n",
    "from statsmodels.tsa.ar_model import AutoReg\n",
    "import pandas as pd "
   ]
  },
  {
   "cell_type": "code",
   "execution_count": 65,
   "id": "176e2168",
   "metadata": {},
   "outputs": [],
   "source": [
    "from sklearn import datasets\n",
    "from sklearn.model_selection import train_test_split\n",
    "from sklearn.svm import SVC\n",
    "from sklearn.metrics import accuracy_score"
   ]
  },
  {
   "cell_type": "code",
   "execution_count": 69,
   "id": "7ef9657d",
   "metadata": {},
   "outputs": [],
   "source": [
    "fname = join(os.getcwd(),'data','data3SS2009.mat')\n",
    "mat_contents = sio.loadmat(fname)\n",
    "data = mat_contents['dataset']\n",
    "\n",
    "N, Chno, Nc = dataset.shape\n",
    "# N: number of samples\n",
    "# Chno: number of channels\n",
    "# Nc: number of cases\n",
    "\n",
    "y = mat_contents['labels'].reshape(Nc)\n"
   ]
  },
  {
   "cell_type": "code",
   "execution_count": 71,
   "id": "ed8e4526",
   "metadata": {},
   "outputs": [],
   "source": [
    "Ch1 = dataset[:,0,:] # célula de carga: força do shaker\n",
    "Ch2 = dataset[:,1,:] # acelerômetro: base\n",
    "Ch3 = dataset[:,2,:] # acelerômetro: 1o andar\n",
    "Ch4 = dataset[:,3,:] # acelerômetro: 2o andar\n",
    "Ch5 = dataset[:,4,:] # acelerômetro: 3o andar\n",
    "\n",
    "Ts = 3.125 * 1e-3 # sampling time\n",
    "time = (np.linspace(1,N,N) - 1) * Ts\n",
    "\n",
    "\n"
   ]
  },
  {
   "cell_type": "code",
   "execution_count": 48,
   "id": "20bdf197",
   "metadata": {},
   "outputs": [],
   "source": [
    "ARmodel_2 = AutoReg(Ch2[:,1],30,old_names=False).fit()\n",
    "ARmodel_3 = AutoReg(Ch3[:,1],30,old_names=False).fit()\n",
    "ARmodel_4 = AutoReg(Ch4[:,1],30,old_names=False).fit()\n",
    "ARmodel_5 = AutoReg(Ch5[:,1],30,old_names=False).fit()\n",
    "vec_2 = ARmodel_2.params\n",
    "vec_3 = ARmodel_3.params\n",
    "vec_4 = ARmodel_4.params\n",
    "vec_5 = ARmodel_5.params\n",
    "vec_temp = np.concatenate((vec_2,vec_3,vec_4,vec_5))\n",
    "\n",
    "ARmodel_var = vec_temp\n",
    "\n",
    "for i in range(1,850):\n",
    "    ARmodel_2 = AutoReg(Ch2[:,i],30,old_names=False).fit()\n",
    "    ARmodel_3 = AutoReg(Ch3[:,i],30,old_names=False).fit()\n",
    "    ARmodel_4 = AutoReg(Ch4[:,i],30,old_names=False).fit()\n",
    "    ARmodel_5 = AutoReg(Ch5[:,i],30,old_names=False).fit()\n",
    "    vec_2 = ARmodel_2.params\n",
    "    vec_3 = ARmodel_3.params\n",
    "    vec_4 = ARmodel_4.params\n",
    "    vec_5 = ARmodel_5.params\n",
    "    vec_temp = np.concatenate((vec_2,vec_3,vec_4,vec_5))\n",
    "    ARmodel_var = np.vstack([ARmodel_var,vec_temp])"
   ]
  },
  {
   "cell_type": "code",
   "execution_count": 59,
   "id": "1e3df980",
   "metadata": {},
   "outputs": [
    {
     "name": "stdout",
     "output_type": "stream",
     "text": [
      "Précision : 100.00%\n"
     ]
    }
   ],
   "source": [
    "## TEST SVM with kernel Linear\n",
    "X = ARmodel_var\n",
    "X_train, X_test, y_train, y_test = train_test_split(X, y, test_size=0.3, random_state=42)\n",
    "model = SVC(kernel='linear')\n",
    "model.fit(X_train, y_train)\n",
    "y_pred = model.predict(X_test)\n",
    "accuracy = accuracy_score(y_test, y_pred)\n",
    "print(f\"Précision : {accuracy * 100:.2f}%\")"
   ]
  },
  {
   "cell_type": "code",
   "execution_count": 60,
   "id": "b0b07712",
   "metadata": {},
   "outputs": [
    {
     "name": "stdout",
     "output_type": "stream",
     "text": [
      "Précision : 69.02%\n"
     ]
    }
   ],
   "source": [
    "## TEST SVM with RBM (Radial Basis Fuction) and C=10\n",
    "model = SVC(kernel='rbf', C=1.0, gamma='scale')  \n",
    "model.fit(X_train, y_train)\n",
    "y_pred = model.predict(X_test)\n",
    "accuracy = accuracy_score(y_test, y_pred)\n",
    "print(f\"Précision : {accuracy * 100:.2f}%\")"
   ]
  },
  {
   "cell_type": "code",
   "execution_count": 61,
   "id": "39faa029",
   "metadata": {},
   "outputs": [
    {
     "name": "stdout",
     "output_type": "stream",
     "text": [
      "Précision : 94.12%\n"
     ]
    }
   ],
   "source": [
    "## TEST SVM with polynomial \n",
    "model = SVC(kernel='poly', C=1.0, degree=3)\n",
    "model.fit(X_train, y_train)\n",
    "y_pred = model.predict(X_test)\n",
    "accuracy = accuracy_score(y_test, y_pred)\n",
    "print(f\"Précision : {accuracy * 100:.2f}%\")"
   ]
  },
  {
   "cell_type": "code",
   "execution_count": 62,
   "id": "73e1d6c7",
   "metadata": {},
   "outputs": [
    {
     "name": "stdout",
     "output_type": "stream",
     "text": [
      "Précision : 97.25%\n"
     ]
    }
   ],
   "source": [
    "## Test kNN with k=3\n",
    "from sklearn.neighbors import KNeighborsClassifier\n",
    "\n",
    "k = 3\n",
    "model = KNeighborsClassifier(n_neighbors=k)\n",
    "X = ARmodel_var\n",
    "X_train, X_test, y_train, y_test = train_test_split(X, y, test_size=0.3, random_state=42)\n",
    "model.fit(X_train, y_train)\n",
    "y_pred = model.predict(X_test)\n",
    "accuracy = accuracy_score(y_test, y_pred)\n",
    "print(f\"Précision : {accuracy * 100:.2f}%\")"
   ]
  },
  {
   "cell_type": "code",
   "execution_count": 63,
   "id": "d11afc2f",
   "metadata": {},
   "outputs": [
    {
     "name": "stdout",
     "output_type": "stream",
     "text": [
      "Précision : 99.22%\n"
     ]
    }
   ],
   "source": [
    "## Test kNN , k=5 and Manhattan metric\n",
    "\n",
    "k = 5  \n",
    "metric = 'manhattan' \n",
    "model = KNeighborsClassifier(n_neighbors=k, p=1, metric=metric)\n",
    "X_train, X_test, y_train, y_test = train_test_split(X, y, test_size=0.3, random_state=42)\n",
    "model.fit(X_train, y_train)\n",
    "y_pred = model.predict(X_test)\n",
    "accuracy = accuracy_score(y_test, y_pred)\n",
    "print(f\"Précision : {accuracy * 100:.2f}%\")"
   ]
  },
  {
   "cell_type": "code",
   "execution_count": null,
   "id": "3084e48d",
   "metadata": {},
   "outputs": [],
   "source": [
    "# The choice between an SVM model with a non-linear kernel and a linear model \n",
    "#will depend on the complexity of the data and the problem we're trying to solve.\n",
    "#For non-linear data, SVMs with non-linear kernels can offer superior performance, \n",
    "#while linear models are more appropriate for simple relationships and linear data. \n",
    "#This is the case here, as we have an accuracy of 100%."
   ]
  }
 ],
 "metadata": {
  "kernelspec": {
   "display_name": "Python 3 (ipykernel)",
   "language": "python",
   "name": "python3"
  },
  "language_info": {
   "codemirror_mode": {
    "name": "ipython",
    "version": 3
   },
   "file_extension": ".py",
   "mimetype": "text/x-python",
   "name": "python",
   "nbconvert_exporter": "python",
   "pygments_lexer": "ipython3",
   "version": "3.9.12"
  }
 },
 "nbformat": 4,
 "nbformat_minor": 5
}
